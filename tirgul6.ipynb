{
  "nbformat": 4,
  "nbformat_minor": 0,
  "metadata": {
    "colab": {
      "provenance": [],
      "authorship_tag": "ABX9TyMRJvrZCir7r1d4t8iog581",
      "include_colab_link": true
    },
    "kernelspec": {
      "name": "python3",
      "display_name": "Python 3"
    },
    "language_info": {
      "name": "python"
    },
    "widgets": {
      "application/vnd.jupyter.widget-state+json": {
        "c42c10cb5d3c495a98ee791de6a24c4d": {
          "model_module": "@jupyter-widgets/controls",
          "model_name": "LabelModel",
          "model_module_version": "1.5.0",
          "state": {
            "_dom_classes": [],
            "_model_module": "@jupyter-widgets/controls",
            "_model_module_version": "1.5.0",
            "_model_name": "LabelModel",
            "_view_count": null,
            "_view_module": "@jupyter-widgets/controls",
            "_view_module_version": "1.5.0",
            "_view_name": "LabelView",
            "description": "",
            "description_tooltip": null,
            "layout": "IPY_MODEL_96fd2c05f81842dd91810970b8764c10",
            "placeholder": "​",
            "style": "IPY_MODEL_bfd0f70f2ca2463f9c583add2545abd1",
            "value": "Quiz complete! Your score is: 2"
          }
        },
        "96fd2c05f81842dd91810970b8764c10": {
          "model_module": "@jupyter-widgets/base",
          "model_name": "LayoutModel",
          "model_module_version": "1.2.0",
          "state": {
            "_model_module": "@jupyter-widgets/base",
            "_model_module_version": "1.2.0",
            "_model_name": "LayoutModel",
            "_view_count": null,
            "_view_module": "@jupyter-widgets/base",
            "_view_module_version": "1.2.0",
            "_view_name": "LayoutView",
            "align_content": null,
            "align_items": null,
            "align_self": null,
            "border": null,
            "bottom": null,
            "display": null,
            "flex": null,
            "flex_flow": null,
            "grid_area": null,
            "grid_auto_columns": null,
            "grid_auto_flow": null,
            "grid_auto_rows": null,
            "grid_column": null,
            "grid_gap": null,
            "grid_row": null,
            "grid_template_areas": null,
            "grid_template_columns": null,
            "grid_template_rows": null,
            "height": null,
            "justify_content": null,
            "justify_items": null,
            "left": null,
            "margin": null,
            "max_height": null,
            "max_width": null,
            "min_height": null,
            "min_width": null,
            "object_fit": null,
            "object_position": null,
            "order": null,
            "overflow": null,
            "overflow_x": null,
            "overflow_y": null,
            "padding": null,
            "right": null,
            "top": null,
            "visibility": null,
            "width": null
          }
        },
        "bfd0f70f2ca2463f9c583add2545abd1": {
          "model_module": "@jupyter-widgets/controls",
          "model_name": "DescriptionStyleModel",
          "model_module_version": "1.5.0",
          "state": {
            "_model_module": "@jupyter-widgets/controls",
            "_model_module_version": "1.5.0",
            "_model_name": "DescriptionStyleModel",
            "_view_count": null,
            "_view_module": "@jupyter-widgets/base",
            "_view_module_version": "1.2.0",
            "_view_name": "StyleView",
            "description_width": ""
          }
        },
        "877c135d249d4a0e955a27b4566cf5a6": {
          "model_module": "@jupyter-widgets/controls",
          "model_name": "ButtonModel",
          "model_module_version": "1.5.0",
          "state": {
            "_dom_classes": [],
            "_model_module": "@jupyter-widgets/controls",
            "_model_module_version": "1.5.0",
            "_model_name": "ButtonModel",
            "_view_count": null,
            "_view_module": "@jupyter-widgets/controls",
            "_view_module_version": "1.5.0",
            "_view_name": "ButtonView",
            "button_style": "",
            "description": "def my_function(): { do something }",
            "disabled": true,
            "icon": "",
            "layout": "IPY_MODEL_813f03cc425d4b3a8d96251a6d07ef92",
            "style": "IPY_MODEL_5514d82d64234aa0aa3dd02d3bd6a606",
            "tooltip": ""
          }
        },
        "813f03cc425d4b3a8d96251a6d07ef92": {
          "model_module": "@jupyter-widgets/base",
          "model_name": "LayoutModel",
          "model_module_version": "1.2.0",
          "state": {
            "_model_module": "@jupyter-widgets/base",
            "_model_module_version": "1.2.0",
            "_model_name": "LayoutModel",
            "_view_count": null,
            "_view_module": "@jupyter-widgets/base",
            "_view_module_version": "1.2.0",
            "_view_name": "LayoutView",
            "align_content": null,
            "align_items": null,
            "align_self": null,
            "border": null,
            "bottom": null,
            "display": null,
            "flex": null,
            "flex_flow": null,
            "grid_area": null,
            "grid_auto_columns": null,
            "grid_auto_flow": null,
            "grid_auto_rows": null,
            "grid_column": null,
            "grid_gap": null,
            "grid_row": null,
            "grid_template_areas": null,
            "grid_template_columns": null,
            "grid_template_rows": null,
            "height": null,
            "justify_content": null,
            "justify_items": null,
            "left": null,
            "margin": null,
            "max_height": null,
            "max_width": null,
            "min_height": null,
            "min_width": null,
            "object_fit": null,
            "object_position": null,
            "order": null,
            "overflow": null,
            "overflow_x": null,
            "overflow_y": null,
            "padding": null,
            "right": null,
            "top": null,
            "visibility": null,
            "width": "auto"
          }
        },
        "5514d82d64234aa0aa3dd02d3bd6a606": {
          "model_module": "@jupyter-widgets/controls",
          "model_name": "ButtonStyleModel",
          "model_module_version": "1.5.0",
          "state": {
            "_model_module": "@jupyter-widgets/controls",
            "_model_module_version": "1.5.0",
            "_model_name": "ButtonStyleModel",
            "_view_count": null,
            "_view_module": "@jupyter-widgets/base",
            "_view_module_version": "1.2.0",
            "_view_name": "StyleView",
            "button_color": null,
            "font_weight": ""
          }
        },
        "9795330b52a044daa3e114f2b88f9c93": {
          "model_module": "@jupyter-widgets/controls",
          "model_name": "ButtonModel",
          "model_module_version": "1.5.0",
          "state": {
            "_dom_classes": [],
            "_model_module": "@jupyter-widgets/controls",
            "_model_module_version": "1.5.0",
            "_model_name": "ButtonModel",
            "_view_count": null,
            "_view_module": "@jupyter-widgets/controls",
            "_view_module_version": "1.5.0",
            "_view_name": "ButtonView",
            "button_style": "success",
            "description": "def my_function(): do something",
            "disabled": true,
            "icon": "",
            "layout": "IPY_MODEL_813f03cc425d4b3a8d96251a6d07ef92",
            "style": "IPY_MODEL_54f580b799cd4b229ebb057b062dbc0a",
            "tooltip": ""
          }
        },
        "54f580b799cd4b229ebb057b062dbc0a": {
          "model_module": "@jupyter-widgets/controls",
          "model_name": "ButtonStyleModel",
          "model_module_version": "1.5.0",
          "state": {
            "_model_module": "@jupyter-widgets/controls",
            "_model_module_version": "1.5.0",
            "_model_name": "ButtonStyleModel",
            "_view_count": null,
            "_view_module": "@jupyter-widgets/base",
            "_view_module_version": "1.2.0",
            "_view_name": "StyleView",
            "button_color": null,
            "font_weight": ""
          }
        },
        "1573e7c519d246d080a381d1069ed55b": {
          "model_module": "@jupyter-widgets/controls",
          "model_name": "ButtonModel",
          "model_module_version": "1.5.0",
          "state": {
            "_dom_classes": [],
            "_model_module": "@jupyter-widgets/controls",
            "_model_module_version": "1.5.0",
            "_model_name": "ButtonModel",
            "_view_count": null,
            "_view_module": "@jupyter-widgets/controls",
            "_view_module_version": "1.5.0",
            "_view_name": "ButtonView",
            "button_style": "",
            "description": "def my_function(): { return something }",
            "disabled": true,
            "icon": "",
            "layout": "IPY_MODEL_813f03cc425d4b3a8d96251a6d07ef92",
            "style": "IPY_MODEL_2f4411ddea2e467f9e24694ba6c33278",
            "tooltip": ""
          }
        },
        "2f4411ddea2e467f9e24694ba6c33278": {
          "model_module": "@jupyter-widgets/controls",
          "model_name": "ButtonStyleModel",
          "model_module_version": "1.5.0",
          "state": {
            "_model_module": "@jupyter-widgets/controls",
            "_model_module_version": "1.5.0",
            "_model_name": "ButtonStyleModel",
            "_view_count": null,
            "_view_module": "@jupyter-widgets/base",
            "_view_module_version": "1.2.0",
            "_view_name": "StyleView",
            "button_color": null,
            "font_weight": ""
          }
        },
        "10a8ee4f4856476f92169eeeac504f8a": {
          "model_module": "@jupyter-widgets/controls",
          "model_name": "ButtonModel",
          "model_module_version": "1.5.0",
          "state": {
            "_dom_classes": [],
            "_model_module": "@jupyter-widgets/controls",
            "_model_module_version": "1.5.0",
            "_model_name": "ButtonModel",
            "_view_count": null,
            "_view_module": "@jupyter-widgets/controls",
            "_view_module_version": "1.5.0",
            "_view_name": "ButtonView",
            "button_style": "",
            "description": "def my_function(): return something",
            "disabled": true,
            "icon": "",
            "layout": "IPY_MODEL_813f03cc425d4b3a8d96251a6d07ef92",
            "style": "IPY_MODEL_3137f27159274adbb94ec55ef1c3155c",
            "tooltip": ""
          }
        },
        "3137f27159274adbb94ec55ef1c3155c": {
          "model_module": "@jupyter-widgets/controls",
          "model_name": "ButtonStyleModel",
          "model_module_version": "1.5.0",
          "state": {
            "_model_module": "@jupyter-widgets/controls",
            "_model_module_version": "1.5.0",
            "_model_name": "ButtonStyleModel",
            "_view_count": null,
            "_view_module": "@jupyter-widgets/base",
            "_view_module_version": "1.2.0",
            "_view_name": "StyleView",
            "button_color": null,
            "font_weight": ""
          }
        },
        "c76a9c6ba42a4821b61fde8b82118456": {
          "model_module": "@jupyter-widgets/controls",
          "model_name": "ButtonModel",
          "model_module_version": "1.5.0",
          "state": {
            "_dom_classes": [],
            "_model_module": "@jupyter-widgets/controls",
            "_model_module_version": "1.5.0",
            "_model_name": "ButtonModel",
            "_view_count": null,
            "_view_module": "@jupyter-widgets/controls",
            "_view_module_version": "1.5.0",
            "_view_name": "ButtonView",
            "button_style": "",
            "description": "Submit",
            "disabled": true,
            "icon": "",
            "layout": "IPY_MODEL_34c7d48cf3204d779592bb4c4173a82d",
            "style": "IPY_MODEL_99bf5e2ea36d4e14a3368e6726599fcc",
            "tooltip": ""
          }
        },
        "34c7d48cf3204d779592bb4c4173a82d": {
          "model_module": "@jupyter-widgets/base",
          "model_name": "LayoutModel",
          "model_module_version": "1.2.0",
          "state": {
            "_model_module": "@jupyter-widgets/base",
            "_model_module_version": "1.2.0",
            "_model_name": "LayoutModel",
            "_view_count": null,
            "_view_module": "@jupyter-widgets/base",
            "_view_module_version": "1.2.0",
            "_view_name": "LayoutView",
            "align_content": null,
            "align_items": null,
            "align_self": null,
            "border": null,
            "bottom": null,
            "display": null,
            "flex": null,
            "flex_flow": null,
            "grid_area": null,
            "grid_auto_columns": null,
            "grid_auto_flow": null,
            "grid_auto_rows": null,
            "grid_column": null,
            "grid_gap": null,
            "grid_row": null,
            "grid_template_areas": null,
            "grid_template_columns": null,
            "grid_template_rows": null,
            "height": null,
            "justify_content": null,
            "justify_items": null,
            "left": null,
            "margin": null,
            "max_height": null,
            "max_width": null,
            "min_height": null,
            "min_width": null,
            "object_fit": null,
            "object_position": null,
            "order": null,
            "overflow": null,
            "overflow_x": null,
            "overflow_y": null,
            "padding": null,
            "right": null,
            "top": null,
            "visibility": null,
            "width": null
          }
        },
        "99bf5e2ea36d4e14a3368e6726599fcc": {
          "model_module": "@jupyter-widgets/controls",
          "model_name": "ButtonStyleModel",
          "model_module_version": "1.5.0",
          "state": {
            "_model_module": "@jupyter-widgets/controls",
            "_model_module_version": "1.5.0",
            "_model_name": "ButtonStyleModel",
            "_view_count": null,
            "_view_module": "@jupyter-widgets/base",
            "_view_module_version": "1.2.0",
            "_view_name": "StyleView",
            "button_color": null,
            "font_weight": ""
          }
        },
        "dc65357d984745a49d27a3f58ca7f3cb": {
          "model_module": "@jupyter-widgets/controls",
          "model_name": "IntTextModel",
          "model_module_version": "1.5.0",
          "state": {
            "_dom_classes": [],
            "_model_module": "@jupyter-widgets/controls",
            "_model_module_version": "1.5.0",
            "_model_name": "IntTextModel",
            "_view_count": null,
            "_view_module": "@jupyter-widgets/controls",
            "_view_module_version": "1.5.0",
            "_view_name": "IntTextView",
            "continuous_update": false,
            "description": "Score:",
            "description_tooltip": null,
            "disabled": true,
            "layout": "IPY_MODEL_16598cfeaefc464e92d9fb8b481f84e1",
            "step": 1,
            "style": "IPY_MODEL_2e208fb7fcbc49f7b6ecd73d2b2b9522",
            "value": 2
          }
        },
        "16598cfeaefc464e92d9fb8b481f84e1": {
          "model_module": "@jupyter-widgets/base",
          "model_name": "LayoutModel",
          "model_module_version": "1.2.0",
          "state": {
            "_model_module": "@jupyter-widgets/base",
            "_model_module_version": "1.2.0",
            "_model_name": "LayoutModel",
            "_view_count": null,
            "_view_module": "@jupyter-widgets/base",
            "_view_module_version": "1.2.0",
            "_view_name": "LayoutView",
            "align_content": null,
            "align_items": null,
            "align_self": null,
            "border": null,
            "bottom": null,
            "display": null,
            "flex": null,
            "flex_flow": null,
            "grid_area": null,
            "grid_auto_columns": null,
            "grid_auto_flow": null,
            "grid_auto_rows": null,
            "grid_column": null,
            "grid_gap": null,
            "grid_row": null,
            "grid_template_areas": null,
            "grid_template_columns": null,
            "grid_template_rows": null,
            "height": null,
            "justify_content": null,
            "justify_items": null,
            "left": null,
            "margin": null,
            "max_height": null,
            "max_width": null,
            "min_height": null,
            "min_width": null,
            "object_fit": null,
            "object_position": null,
            "order": null,
            "overflow": null,
            "overflow_x": null,
            "overflow_y": null,
            "padding": null,
            "right": null,
            "top": null,
            "visibility": null,
            "width": null
          }
        },
        "2e208fb7fcbc49f7b6ecd73d2b2b9522": {
          "model_module": "@jupyter-widgets/controls",
          "model_name": "DescriptionStyleModel",
          "model_module_version": "1.5.0",
          "state": {
            "_model_module": "@jupyter-widgets/controls",
            "_model_module_version": "1.5.0",
            "_model_name": "DescriptionStyleModel",
            "_view_count": null,
            "_view_module": "@jupyter-widgets/base",
            "_view_module_version": "1.2.0",
            "_view_name": "StyleView",
            "description_width": ""
          }
        }
      }
    }
  },
  "cells": [
    {
      "cell_type": "markdown",
      "metadata": {
        "id": "view-in-github",
        "colab_type": "text"
      },
      "source": [
        "<a href=\"https://colab.research.google.com/github/Ranash12/cloudCourse/blob/main/tirgul6.ipynb\" target=\"_parent\"><img src=\"https://colab.research.google.com/assets/colab-badge.svg\" alt=\"Open In Colab\"/></a>"
      ]
    },
    {
      "cell_type": "code",
      "source": [
        "!pip install firebase"
      ],
      "metadata": {
        "id": "3yxbcGfMfrEl",
        "colab": {
          "base_uri": "https://localhost:8080/"
        },
        "outputId": "d34fc345-e23d-451b-a5bc-3f7c3ba539c4"
      },
      "execution_count": 18,
      "outputs": [
        {
          "output_type": "stream",
          "name": "stdout",
          "text": [
            "Looking in indexes: https://pypi.org/simple, https://us-python.pkg.dev/colab-wheels/public/simple/\n",
            "Requirement already satisfied: firebase in /usr/local/lib/python3.10/dist-packages (4.0.1)\n",
            "Requirement already satisfied: requests in /usr/local/lib/python3.10/dist-packages (from firebase) (2.27.1)\n",
            "Requirement already satisfied: urllib3<1.27,>=1.21.1 in /usr/local/lib/python3.10/dist-packages (from requests->firebase) (1.26.15)\n",
            "Requirement already satisfied: certifi>=2017.4.17 in /usr/local/lib/python3.10/dist-packages (from requests->firebase) (2022.12.7)\n",
            "Requirement already satisfied: charset-normalizer~=2.0.0 in /usr/local/lib/python3.10/dist-packages (from requests->firebase) (2.0.12)\n",
            "Requirement already satisfied: idna<4,>=2.5 in /usr/local/lib/python3.10/dist-packages (from requests->firebase) (3.4)\n"
          ]
        }
      ]
    },
    {
      "cell_type": "code",
      "source": [
        "import json\n",
        "from firebase import firebase\n",
        "import ipywidgets as widgets\n",
        "from IPython.display import display\n",
        "FBconn = firebase.FirebaseApplication('https://test-9391b-default-rtdb.europe-west1.firebasedatabase.app/',None)\n",
        "res = FBconn.get('/question_set',None)\n",
        "\n",
        "\n",
        "# Define a list of questions and their corresponding answers\n",
        "questions = res[0]\n",
        "questions = questions[\"question\"]\n",
        "\n",
        "\n",
        "\n",
        "# Create widgets for question, options, and submit button\n",
        "question_widget = widgets.Label() \n",
        "layout = widgets.Layout(width = 'auto')\n",
        "option_widgets = [widgets.Button(description=answer,layout = layout) for answer in questions[0]['options']]\n",
        "submit_button = widgets.Button(description='Submit')\n",
        "submit_button.disabled = True\n",
        "\n",
        "question_index = 0\n",
        "selected_option = -1\n",
        "# Define function to display next question\n",
        "def next_question():\n",
        "    global question_index\n",
        "    global selected_option\n",
        "    # Update question widget and option widgets\n",
        "    question_widget.value = questions[question_index]['text']\n",
        "    for i, option_widget in enumerate(option_widgets):\n",
        "        option_widget.description = questions[question_index]['options'][i]\n",
        "        option_widget.disabled = False\n",
        "        \n",
        "    # Reset option widget button style and remove callback\n",
        "    for option_widget in option_widgets:\n",
        "        option_widget.button_style = ''\n",
        "        \n",
        "        \n",
        "    \n",
        "    # Define callback function for option widgets\n",
        "    def option_callback(button):\n",
        "        global selected_option\n",
        "        # Disable all option widgets and change button style for clicked option\n",
        "        i = -1\n",
        "        for option_widget in option_widgets:\n",
        "            i+=1\n",
        "            option_widget.disabled = True\n",
        "            if option_widget == button:\n",
        "                \n",
        "                selected_option = i\n",
        "                if button.description == questions[question_index]['answer']:\n",
        "                    button.button_style = 'success'\n",
        "                else:\n",
        "                    button.button_style = 'danger'\n",
        "                    for i, option in enumerate(questions[question_index]['options']):\n",
        "                        if option == questions[question_index]['answer']:\n",
        "                            option_widgets[i].button_style = 'success'\n",
        "            \n",
        "        # Enable submit button\n",
        "        submit_button.disabled = False\n",
        "    \n",
        "    # Attach callback function to option widgets\n",
        "    for option_widget in option_widgets:\n",
        "        option_widget.on_click(option_callback)\n",
        "\n",
        "# Define callback function for submit button\n",
        "def submit_callback(button):\n",
        "    global question_index\n",
        "    global selected_option\n",
        "    \n",
        "    # Update score and disable submit button\n",
        "    if option_widgets[selected_option].button_style == 'success':\n",
        "            score_widget.value += 1\n",
        "    submit_button.disabled = True\n",
        "    \n",
        "    # If last question, disable all option widgets and display score\n",
        "    if question_index == len(questions) - 1:\n",
        "        for option_widget in option_widgets:\n",
        "            option_widget.disabled = True\n",
        "        question_widget.value = 'Quiz complete! Your score is: {}'.format(score_widget.value)\n",
        "    else:\n",
        "        # Otherwise, move to next question\n",
        "        question_index += 1\n",
        "        next_question()\n",
        "\n",
        "# Attach callback function to submit button\n",
        "submit_button.on_click(submit_callback)\n",
        "\n",
        "# Create widget for score\n",
        "score_widget = widgets.IntText(value=0, description='Score:', disabled=True)\n",
        "\n",
        "# Display widgets\n",
        "display(question_widget)\n",
        "for option_widget in option_widgets:\n",
        "    \n",
        "    display(option_widget)\n",
        "display(submit_button)\n",
        "display(score_widget)\n",
        "\n",
        "# Start game with first question\n",
        "\n",
        "next_question()"
      ],
      "metadata": {
        "colab": {
          "base_uri": "https://localhost:8080/",
          "height": 241,
          "referenced_widgets": [
            "c42c10cb5d3c495a98ee791de6a24c4d",
            "96fd2c05f81842dd91810970b8764c10",
            "bfd0f70f2ca2463f9c583add2545abd1",
            "877c135d249d4a0e955a27b4566cf5a6",
            "813f03cc425d4b3a8d96251a6d07ef92",
            "5514d82d64234aa0aa3dd02d3bd6a606",
            "9795330b52a044daa3e114f2b88f9c93",
            "54f580b799cd4b229ebb057b062dbc0a",
            "1573e7c519d246d080a381d1069ed55b",
            "2f4411ddea2e467f9e24694ba6c33278",
            "10a8ee4f4856476f92169eeeac504f8a",
            "3137f27159274adbb94ec55ef1c3155c",
            "c76a9c6ba42a4821b61fde8b82118456",
            "34c7d48cf3204d779592bb4c4173a82d",
            "99bf5e2ea36d4e14a3368e6726599fcc",
            "dc65357d984745a49d27a3f58ca7f3cb",
            "16598cfeaefc464e92d9fb8b481f84e1",
            "2e208fb7fcbc49f7b6ecd73d2b2b9522"
          ]
        },
        "id": "McFx92ceikvQ",
        "outputId": "74e7a66b-a8cd-4dd5-bddf-89dc39d17856"
      },
      "execution_count": 112,
      "outputs": [
        {
          "output_type": "display_data",
          "data": {
            "text/plain": [
              "Label(value='')"
            ],
            "application/vnd.jupyter.widget-view+json": {
              "version_major": 2,
              "version_minor": 0,
              "model_id": "c42c10cb5d3c495a98ee791de6a24c4d"
            }
          },
          "metadata": {}
        },
        {
          "output_type": "display_data",
          "data": {
            "text/plain": [
              "Button(description='3.3333', layout=Layout(width='auto'), style=ButtonStyle())"
            ],
            "application/vnd.jupyter.widget-view+json": {
              "version_major": 2,
              "version_minor": 0,
              "model_id": "877c135d249d4a0e955a27b4566cf5a6"
            }
          },
          "metadata": {}
        },
        {
          "output_type": "display_data",
          "data": {
            "text/plain": [
              "Button(description='3.33', layout=Layout(width='auto'), style=ButtonStyle())"
            ],
            "application/vnd.jupyter.widget-view+json": {
              "version_major": 2,
              "version_minor": 0,
              "model_id": "9795330b52a044daa3e114f2b88f9c93"
            }
          },
          "metadata": {}
        },
        {
          "output_type": "display_data",
          "data": {
            "text/plain": [
              "Button(description='3', layout=Layout(width='auto'), style=ButtonStyle())"
            ],
            "application/vnd.jupyter.widget-view+json": {
              "version_major": 2,
              "version_minor": 0,
              "model_id": "1573e7c519d246d080a381d1069ed55b"
            }
          },
          "metadata": {}
        },
        {
          "output_type": "display_data",
          "data": {
            "text/plain": [
              "Button(description='3.0', layout=Layout(width='auto'), style=ButtonStyle())"
            ],
            "application/vnd.jupyter.widget-view+json": {
              "version_major": 2,
              "version_minor": 0,
              "model_id": "10a8ee4f4856476f92169eeeac504f8a"
            }
          },
          "metadata": {}
        },
        {
          "output_type": "display_data",
          "data": {
            "text/plain": [
              "Button(description='Submit', disabled=True, style=ButtonStyle())"
            ],
            "application/vnd.jupyter.widget-view+json": {
              "version_major": 2,
              "version_minor": 0,
              "model_id": "c76a9c6ba42a4821b61fde8b82118456"
            }
          },
          "metadata": {}
        },
        {
          "output_type": "display_data",
          "data": {
            "text/plain": [
              "IntText(value=0, description='Score:', disabled=True)"
            ],
            "application/vnd.jupyter.widget-view+json": {
              "version_major": 2,
              "version_minor": 0,
              "model_id": "dc65357d984745a49d27a3f58ca7f3cb"
            }
          },
          "metadata": {}
        }
      ]
    }
  ]
}