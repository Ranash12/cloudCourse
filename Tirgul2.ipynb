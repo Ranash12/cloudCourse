{
  "nbformat": 4,
  "nbformat_minor": 0,
  "metadata": {
    "colab": {
      "provenance": [],
      "authorship_tag": "ABX9TyPHlaMVmTriD0h78WcuBWu9",
      "include_colab_link": true
    },
    "kernelspec": {
      "name": "python3",
      "display_name": "Python 3"
    },
    "language_info": {
      "name": "python"
    }
  },
  "cells": [
    {
      "cell_type": "markdown",
      "metadata": {
        "id": "view-in-github",
        "colab_type": "text"
      },
      "source": [
        "<a href=\"https://colab.research.google.com/github/Ranash12/cloudCourse/blob/main/Tirgul2.ipynb\" target=\"_parent\"><img src=\"https://colab.research.google.com/assets/colab-badge.svg\" alt=\"Open In Colab\"/></a>"
      ]
    },
    {
      "cell_type": "code",
      "source": [
        "from google.colab import drive\n",
        "drive.mount('/content/drive')"
      ],
      "metadata": {
        "colab": {
          "base_uri": "https://localhost:8080/"
        },
        "id": "SvA59OYqAJpq",
        "outputId": "3dae1b27-2c16-4fa9-9d0c-3e32baf28d5b"
      },
      "execution_count": 2,
      "outputs": [
        {
          "output_type": "stream",
          "name": "stdout",
          "text": [
            "Mounted at /content/drive\n"
          ]
        }
      ]
    },
    {
      "cell_type": "code",
      "source": [
        "!pip install numpy"
      ],
      "metadata": {
        "colab": {
          "base_uri": "https://localhost:8080/"
        },
        "id": "Y7rdeNj1AKsG",
        "outputId": "7053418f-8bed-4e43-a787-3233545aa2db"
      },
      "execution_count": 4,
      "outputs": [
        {
          "output_type": "stream",
          "name": "stdout",
          "text": [
            "Looking in indexes: https://pypi.org/simple, https://us-python.pkg.dev/colab-wheels/public/simple/\n",
            "Requirement already satisfied: numpy in /usr/local/lib/python3.9/dist-packages (1.22.4)\n"
          ]
        }
      ]
    },
    {
      "cell_type": "code",
      "source": [
        "cd /content/drive/MyDrive"
      ],
      "metadata": {
        "colab": {
          "base_uri": "https://localhost:8080/"
        },
        "id": "rY31TprDAVVO",
        "outputId": "9715f7af-f031-4736-e1a0-dcf8bb471929"
      },
      "execution_count": 5,
      "outputs": [
        {
          "output_type": "stream",
          "name": "stdout",
          "text": [
            "/content/drive/MyDrive\n"
          ]
        }
      ]
    },
    {
      "cell_type": "code",
      "source": [
        "with open('students.txt', 'r') as file:\n",
        "  content = file.readlines()\n",
        "  students = [\"\"]*len(content)\n",
        "  for i in range (len(content)):\n",
        "    students[i] = content[i].split(\"\\n\")[0]\n",
        "    print(students[i])\n",
        "  for i in range (len(students)):\n",
        "    studentDetails = students[i].split()\n",
        "    #print(studentDetails)\n",
        "\n",
        "    #firstName = students[i].split(\" \")\n",
        "    #lastName = students[i].split(\" \")\n",
        "    #print(firstName)\n",
        "    #print(lastName)\n",
        "    #student = 'green' #@param [\"red\", \"green\", \"blue\"] "
      ],
      "metadata": {
        "colab": {
          "base_uri": "https://localhost:8080/"
        },
        "id": "8qBU8KXAAY3K",
        "outputId": "538bc6c6-96b3-49a6-a5b9-6e8e649b8ac4"
      },
      "execution_count": 30,
      "outputs": [
        {
          "output_type": "stream",
          "name": "stdout",
          "text": [
            "Bar Steiner Bar.Steiner@e.braude.ac.il Cloud intro,Bina Melahotit,Aspaka,Marachot irgoniot,English https://www.youtube.com/watch?v=FkHyMTqT1SA\n",
            "\n",
            "Omer Sommerstein Omer.Sommerstein@e.braude.ac.il, Cloud Intro,Web Technologies,Automates,Probability,Crypto facebook.com\n",
            "\n",
            "Noam Ofir Noam.Ofir@e.braude.ac.il Cloud Intro,Web Technologies,Probability,Crypto,Automates Instagram.com\n",
            "\n",
            "Omri Shalev Omri.Shalev@e.braude.ac.il  Cloud,final project,supply,kalkala,math,crypto https://www.youtube.com/watch?v=LtwaDBjNop0\n",
            "\n",
            "Omri Gawi Omri.gawi@e.braude.ac.il Cloud,Crypto,Final Project https://mhaifafc.com/\n",
            "\n",
            "Ran Polac Ran.polac@e.braude.ac.il Cloud,Crypto,Data Mining https://upload.wikimedia.org/wikipedia/commons/thumb/1/1b/White_chicken_egg_square.jpg/184px-White_chicken_egg_square.jpg\n"
          ]
        }
      ]
    },
    {
      "cell_type": "code",
      "source": [],
      "metadata": {
        "id": "VgKhO1sFAadT"
      },
      "execution_count": null,
      "outputs": []
    }
  ]
}